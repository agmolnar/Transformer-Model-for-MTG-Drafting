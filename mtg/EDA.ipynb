{
  "cells": [
    {
      "cell_type": "code",
      "execution_count": 1,
      "metadata": {
        "colab": {
          "base_uri": "https://localhost:8080/"
        },
        "id": "jzWlVsj3mS4g",
        "outputId": "bbb62e6d-429d-4d01-e030-ce25d930d062"
      },
      "outputs": [
        {
          "name": "stdout",
          "output_type": "stream",
          "text": [
            "Drive already mounted at /content/drive/; to attempt to forcibly remount, call drive.mount(\"/content/drive/\", force_remount=True).\n"
          ]
        }
      ],
      "source": [
        "from google.colab import drive\n",
        "drive.mount('/content/drive/')\n",
        "\n",
        "directory = '/content/drive/MyDrive/Colab Notebooks/data'"
      ]
    },
    {
      "cell_type": "code",
      "execution_count": 4,
      "metadata": {
        "id": "c97yexLB0u-4"
      },
      "outputs": [],
      "source": [
        "import pickle\n",
        "\n",
        "# write list to binary file\n",
        "def write_list(a_list):\n",
        "    # store list in binary file so 'wb' mode\n",
        "    with open(r'/content/drive/MyDrive/Colab Notebooks/data/bad_draft_index.pickle', 'wb') as fp:\n",
        "        pickle.dump(a_list, fp)\n",
        "        print('Done writing list into a binary file')\n",
        "        \n",
        "def read_list(filepath):\n",
        "    # for reading also binary mode is important\n",
        "    with open(filepath, 'rb') as fp:\n",
        "        n_list = pickle.load(fp)\n",
        "        return n_list"
      ]
    },
    {
      "cell_type": "code",
      "execution_count": 1,
      "metadata": {
        "id": "ix7EDKagkdUS"
      },
      "outputs": [],
      "source": [
        "import pandas as pd\n",
        "import numpy as np\n",
        "import gzip\n",
        "import csv\n",
        "import json\n",
        "import dask.dataframe as dd\n",
        "import regex as re\n",
        "import logging\n",
        "from sklearn.model_selection import train_test_split"
      ]
    },
    {
      "cell_type": "code",
      "execution_count": 2,
      "metadata": {},
      "outputs": [
        {
          "data": {
            "text/plain": [
              "'c:\\\\Users\\\\aguay\\\\Documents\\\\GitHub\\\\rsaxe FULL\\\\mtg\\\\mtg'"
            ]
          },
          "execution_count": 2,
          "metadata": {},
          "output_type": "execute_result"
        }
      ],
      "source": [
        "import os\n",
        "os.getcwd()"
      ]
    },
    {
      "cell_type": "code",
      "execution_count": 5,
      "metadata": {
        "id": "EnXpYPnuLwxH"
      },
      "outputs": [],
      "source": [
        "bad_index = read_list(r'data\\bad_draft_index.pickle')"
      ]
    },
    {
      "cell_type": "code",
      "execution_count": 6,
      "metadata": {
        "id": "ni1NMmr0ofkh"
      },
      "outputs": [],
      "source": [
        "COLUMN_REGEXES = {\n",
        "    re.compile(r'user_game_win_rate_bucket'): 'float16',\n",
        "    re.compile(r'user_n_games_bucket'): 'int8',\n",
        "    re.compile(r'draft_id'): 'str',\n",
        "    re.compile(r'draft_time'): 'str',\n",
        "    re.compile(r'expansion'): 'str',\n",
        "    re.compile(r'event_type'): 'str',\n",
        "    re.compile(r'event_match_wins'): 'int8',\n",
        "    re.compile(r'event_match_losses'): 'int8',\n",
        "    re.compile(r'pack_number'): 'int8',\n",
        "    re.compile(r'pick_number'): 'int8',\n",
        "    re.compile(r'pick'): 'str',\n",
        "    re.compile(r'pick_maindeck_rate'): 'float16',\n",
        "    re.compile(r'pick_sideboard_in_rate'): 'float16',\n",
        "\n",
        "    re.compile(r'pool_.*'): 'int8',\n",
        "    re.compile(r'pack_card_.*'): 'int8',\n",
        "}\n",
        "\n",
        "def load_data(filename):\n",
        "    col_names = pd.read_csv(filename, nrows=0).columns\n",
        "    data_types = {}\n",
        "    for c in col_names:\n",
        "        for (r, t) in COLUMN_REGEXES.items():\n",
        "            if r.match(c):\n",
        "                data_types[c] = t\n",
        "    #skipcols= ['draft_time',\n",
        "    #           'event_type',\n",
        "    #           'expansion',\n",
        "    #           'event_match_wins',\n",
        "    #           'event_match_losses',\n",
        "    #           'user_n_games_bucket',\n",
        "    #           'user_game_win_rate_bucket',\n",
        "    #           'pick_maindeck_rate',\n",
        "    #           'pick_sideboard_in_rate',\n",
        "    #           'draft_id',\n",
        "    #           'pick_number',\n",
        "    #           'pack_number',\n",
        "    #           'rank'\n",
        "    #            ]\n",
        "    df = pd.read_csv(\n",
        "        filename,\n",
        "        dtype=data_types,\n",
        "        #nrows=100,\n",
        "        skiprows=bad_index,\n",
        "        #chunksize=420000,\n",
        "        #usecols = lambda x: x not in skipcols\n",
        "        #usecols = ['rank', 'pack_number', 'pick_number']      \n",
        "    )\n",
        "    #df['rank'] = df['rank'].fillna('bronze')\n",
        "    return df"
      ]
    },
    {
      "cell_type": "code",
      "execution_count": null,
      "metadata": {
        "id": "7BpvaoAYpUW6"
      },
      "outputs": [],
      "source": [
        "#loading dataset with pandas\n",
        "df = load_data(\"/content/drive/MyDrive/Colab Notebooks/data/draft_data_public.DMU.PremierDraft.csv\")\n",
        "#"
      ]
    },
    {
      "cell_type": "code",
      "execution_count": null,
      "metadata": {
        "colab": {
          "base_uri": "https://localhost:8080/",
          "height": 439
        },
        "id": "_oEsMOe0EMQu",
        "outputId": "35f174af-2d7b-4c2e-ce30-3608d144b0ac"
      },
      "outputs": [],
      "source": [
        "df.head()"
      ]
    },
    {
      "cell_type": "code",
      "execution_count": null,
      "metadata": {
        "id": "LSb28Dckolj5"
      },
      "outputs": [],
      "source": [
        "# loading dataset with dask\n",
        "#df = dd.read_csv(\"/content/drive/MyDrive/Colab Notebooks/data/draft_data_public.DMU.PremierDraft.csv\", dtype={'rank': 'string'})"
      ]
    },
    {
      "cell_type": "code",
      "execution_count": null,
      "metadata": {
        "id": "2LCGgaA-plOi"
      },
      "outputs": [],
      "source": [
        "df['pick'] = df['pick'].astype('string')"
      ]
    },
    {
      "cell_type": "code",
      "execution_count": null,
      "metadata": {
        "id": "Q-URhb7q2eej"
      },
      "outputs": [],
      "source": [
        "df['rank'] = df['rank'].fillna('bronze')"
      ]
    },
    {
      "cell_type": "code",
      "execution_count": null,
      "metadata": {
        "id": "gIpjND7z3Os7"
      },
      "outputs": [],
      "source": [
        "df['rank'] = df['rank'].astype('string')"
      ]
    },
    {
      "cell_type": "code",
      "execution_count": null,
      "metadata": {
        "id": "14_OBkPOUzfv"
      },
      "outputs": [],
      "source": [
        "df.info()"
      ]
    },
    {
      "cell_type": "code",
      "execution_count": null,
      "metadata": {
        "id": "NBmWnEuuz8_M"
      },
      "outputs": [],
      "source": [
        "df.head()"
      ]
    },
    {
      "cell_type": "code",
      "execution_count": null,
      "metadata": {
        "colab": {
          "base_uri": "https://localhost:8080/",
          "height": 49
        },
        "id": "xNZhWYkyk0vA",
        "outputId": "79623380-4bb0-4478-a8f1-0e9f10d0cd82"
      },
      "outputs": [
        {
          "data": {
            "text/html": [
              "\n",
              "  <div id=\"df-e5302ed9-2c9c-46f2-b494-4ab7c2205016\">\n",
              "    <div class=\"colab-df-container\">\n",
              "      <div>\n",
              "<style scoped>\n",
              "    .dataframe tbody tr th:only-of-type {\n",
              "        vertical-align: middle;\n",
              "    }\n",
              "\n",
              "    .dataframe tbody tr th {\n",
              "        vertical-align: top;\n",
              "    }\n",
              "\n",
              "    .dataframe thead th {\n",
              "        text-align: right;\n",
              "    }\n",
              "</style>\n",
              "<table border=\"1\" class=\"dataframe\">\n",
              "  <thead>\n",
              "    <tr style=\"text-align: right;\">\n",
              "      <th></th>\n",
              "      <th>draft_id</th>\n",
              "      <th>pack_number</th>\n",
              "      <th>pick_number</th>\n",
              "    </tr>\n",
              "  </thead>\n",
              "  <tbody>\n",
              "  </tbody>\n",
              "</table>\n",
              "</div>\n",
              "      <button class=\"colab-df-convert\" onclick=\"convertToInteractive('df-e5302ed9-2c9c-46f2-b494-4ab7c2205016')\"\n",
              "              title=\"Convert this dataframe to an interactive table.\"\n",
              "              style=\"display:none;\">\n",
              "        \n",
              "  <svg xmlns=\"http://www.w3.org/2000/svg\" height=\"24px\"viewBox=\"0 0 24 24\"\n",
              "       width=\"24px\">\n",
              "    <path d=\"M0 0h24v24H0V0z\" fill=\"none\"/>\n",
              "    <path d=\"M18.56 5.44l.94 2.06.94-2.06 2.06-.94-2.06-.94-.94-2.06-.94 2.06-2.06.94zm-11 1L8.5 8.5l.94-2.06 2.06-.94-2.06-.94L8.5 2.5l-.94 2.06-2.06.94zm10 10l.94 2.06.94-2.06 2.06-.94-2.06-.94-.94-2.06-.94 2.06-2.06.94z\"/><path d=\"M17.41 7.96l-1.37-1.37c-.4-.4-.92-.59-1.43-.59-.52 0-1.04.2-1.43.59L10.3 9.45l-7.72 7.72c-.78.78-.78 2.05 0 2.83L4 21.41c.39.39.9.59 1.41.59.51 0 1.02-.2 1.41-.59l7.78-7.78 2.81-2.81c.8-.78.8-2.07 0-2.86zM5.41 20L4 18.59l7.72-7.72 1.47 1.35L5.41 20z\"/>\n",
              "  </svg>\n",
              "      </button>\n",
              "      \n",
              "  <style>\n",
              "    .colab-df-container {\n",
              "      display:flex;\n",
              "      flex-wrap:wrap;\n",
              "      gap: 12px;\n",
              "    }\n",
              "\n",
              "    .colab-df-convert {\n",
              "      background-color: #E8F0FE;\n",
              "      border: none;\n",
              "      border-radius: 50%;\n",
              "      cursor: pointer;\n",
              "      display: none;\n",
              "      fill: #1967D2;\n",
              "      height: 32px;\n",
              "      padding: 0 0 0 0;\n",
              "      width: 32px;\n",
              "    }\n",
              "\n",
              "    .colab-df-convert:hover {\n",
              "      background-color: #E2EBFA;\n",
              "      box-shadow: 0px 1px 2px rgba(60, 64, 67, 0.3), 0px 1px 3px 1px rgba(60, 64, 67, 0.15);\n",
              "      fill: #174EA6;\n",
              "    }\n",
              "\n",
              "    [theme=dark] .colab-df-convert {\n",
              "      background-color: #3B4455;\n",
              "      fill: #D2E3FC;\n",
              "    }\n",
              "\n",
              "    [theme=dark] .colab-df-convert:hover {\n",
              "      background-color: #434B5C;\n",
              "      box-shadow: 0px 1px 3px 1px rgba(0, 0, 0, 0.15);\n",
              "      filter: drop-shadow(0px 1px 2px rgba(0, 0, 0, 0.3));\n",
              "      fill: #FFFFFF;\n",
              "    }\n",
              "  </style>\n",
              "\n",
              "      <script>\n",
              "        const buttonEl =\n",
              "          document.querySelector('#df-e5302ed9-2c9c-46f2-b494-4ab7c2205016 button.colab-df-convert');\n",
              "        buttonEl.style.display =\n",
              "          google.colab.kernel.accessAllowed ? 'block' : 'none';\n",
              "\n",
              "        async function convertToInteractive(key) {\n",
              "          const element = document.querySelector('#df-e5302ed9-2c9c-46f2-b494-4ab7c2205016');\n",
              "          const dataTable =\n",
              "            await google.colab.kernel.invokeFunction('convertToInteractive',\n",
              "                                                     [key], {});\n",
              "          if (!dataTable) return;\n",
              "\n",
              "          const docLinkHtml = 'Like what you see? Visit the ' +\n",
              "            '<a target=\"_blank\" href=https://colab.research.google.com/notebooks/data_table.ipynb>data table notebook</a>'\n",
              "            + ' to learn more about interactive tables.';\n",
              "          element.innerHTML = '';\n",
              "          dataTable['output_type'] = 'display_data';\n",
              "          await google.colab.output.renderOutput(dataTable, element);\n",
              "          const docLink = document.createElement('div');\n",
              "          docLink.innerHTML = docLinkHtml;\n",
              "          element.appendChild(docLink);\n",
              "        }\n",
              "      </script>\n",
              "    </div>\n",
              "  </div>\n",
              "  "
            ],
            "text/plain": [
              "Empty DataFrame\n",
              "Columns: [draft_id, pack_number, pick_number]\n",
              "Index: []"
            ]
          },
          "execution_count": 95,
          "metadata": {},
          "output_type": "execute_result"
        }
      ],
      "source": [
        "df.loc[df['draft_id']=='614cf9e25fb24fd0b047f9887bed40c4']\n",
        "#614cf9e25fb24fd0b047f9887bed40c4"
      ]
    },
    {
      "attachments": {},
      "cell_type": "markdown",
      "metadata": {
        "id": "4MoGXlOXe5dO"
      },
      "source": [
        "Train/Val/Test Splits"
      ]
    },
    {
      "cell_type": "code",
      "execution_count": 10,
      "metadata": {
        "id": "Q-7VStz3YPa1"
      },
      "outputs": [],
      "source": [
        "train_chunks = []\n",
        "val_chunks = []\n",
        "test_chunks = []\n",
        "\n",
        "# Create a dictionary to track the draft_id and its corresponding set\n",
        "draft_id_sets = {}\n",
        "\n",
        "for chunk in load_data(\"data\\DMU_draft_data.csv\"):\n",
        "    # Get unique draft_id values in the current chunk\n",
        "    unique_draft_ids = chunk['draft_id'].unique()\n",
        "\n",
        "    # Split the unique draft_id values into train, val, and test sets\n",
        "    train_ids, val_test_ids = train_test_split(unique_draft_ids, test_size=0.2, random_state=42)\n",
        "    val_ids, test_ids = train_test_split(val_test_ids, test_size=0.5, random_state=42)\n",
        "\n",
        "    # Filter the chunk based on the draft_id sets\n",
        "    train_chunk = chunk[chunk['draft_id'].isin(train_ids)]\n",
        "    val_chunk = chunk[chunk['draft_id'].isin(val_ids)]\n",
        "    test_chunk = chunk[chunk['draft_id'].isin(test_ids)]\n",
        "\n",
        "    # Append the splits to their respective lists\n",
        "    train_chunks.append(train_chunk)\n",
        "    val_chunks.append(val_chunk)\n",
        "    test_chunks.append(test_chunk)\n",
        "\n",
        "# Concatenate the chunks into dataframes if needed\n",
        "train_df = pd.concat(train_chunks)\n",
        "val_df = pd.concat(val_chunks)\n",
        "test_df = pd.concat(test_chunks)"
      ]
    },
    {
      "cell_type": "code",
      "execution_count": null,
      "metadata": {
        "id": "Gx1sQZ-Se7vW"
      },
      "outputs": [],
      "source": [
        "train_chunks = []\n",
        "val_chunks = []\n",
        "test_chunks = []\n",
        "\n",
        "for chunk in load_data(\"/content/drive/MyDrive/Colab Notebooks/data/draft_data_public.DMU.PremierDraft.csv\"):\n",
        "    # Split the chunk into train, validation, and test sets\n",
        "    train_chunk, val_test_chunk = train_test_split(chunk, test_size=0.2, random_state=42)\n",
        "    val_chunk, test_chunk = train_test_split(val_test_chunk, test_size=0.5, random_state=42)\n",
        "\n",
        "    # Append the splits to their respective lists\n",
        "    train_chunks.append(train_chunk)\n",
        "    val_chunks.append(val_chunk)\n",
        "    test_chunks.append(test_chunk)"
      ]
    },
    {
      "cell_type": "code",
      "execution_count": null,
      "metadata": {
        "id": "mboSI_0qftsd"
      },
      "outputs": [],
      "source": [
        "# Concatenate the split chunks into single DataFrames\n",
        "train_df = pd.concat(train_chunks, axis=0)\n",
        "train_df.to_csv('data/finaltrain.csv', index=False)\n",
        "\n",
        "\n"
      ]
    },
    {
      "cell_type": "code",
      "execution_count": 11,
      "metadata": {
        "id": "66zz3Sotj8-7"
      },
      "outputs": [],
      "source": [
        "# Write the split DataFrames to separate files\n",
        "val_df = pd.concat(val_chunks, axis=0)\n",
        "test_df = pd.concat(test_chunks, axis=0)\n",
        "val_df.to_csv('data/finalval.csv', index=False)\n",
        "test_df.to_csv('data/finaltest.csv', index=False)"
      ]
    },
    {
      "cell_type": "code",
      "execution_count": null,
      "metadata": {
        "id": "3C5RxPuXqaUh"
      },
      "outputs": [],
      "source": [
        "# Split train dataset into smaller files for easier processsing\n",
        "# https://www.quicktable.io/blog/how-to-split-a-csv-file-into-multiple-files-cld2hn8hp113571mldlj9ua8z2\n",
        "import csv \n",
        "# Open the input file \n",
        "with open(\"data.csv\", \"r\") as input_file: \n",
        "    # Create a CSV reader object \n",
        "    reader = csv.reader(input_file) \n",
        "    # Initialize a counter variable \n",
        "    count = 0 \n",
        "    # Iterate over the rows in the input file \n",
        "    for row in reader: \n",
        "        # If the counter is equal to 0, create a new output file \n",
        "        if count == 0: \n",
        "            # Increment the counter \n",
        "            count += 1 \n",
        "            # Create a new output file with the name \"data_part_1.csv\" \n",
        "            with open(\"data_part_1.csv\", \"w\") as output_file: \n",
        "                # Create a CSV writer object \n",
        "                writer = csv.writer(output_file) \n",
        "                # Write the first row to the output file \n",
        "                writer.writerow(row) \n",
        "        # If the counter is not equal to 0, write the row to the existing output file \n",
        "        else: \n",
        "            # Increment the counter \n",
        "            count += 1 \n",
        "            # Write the row to the existing output file \n",
        "            writer.writerow(row) \n",
        "        # If the counter is equal to 1000, reset the counter \n",
        "        if count == 1000: \n",
        "            count = 0 "
      ]
    },
    {
      "cell_type": "code",
      "execution_count": null,
      "metadata": {
        "id": "C0u2ncz1rF90"
      },
      "outputs": [],
      "source": []
    },
    {
      "attachments": {},
      "cell_type": "markdown",
      "metadata": {
        "id": "L8XakYx8ZvKH"
      },
      "source": [
        "Dealing with Bad Drafts (those that have fewer than 42 picks)"
      ]
    },
    {
      "cell_type": "code",
      "execution_count": null,
      "metadata": {
        "id": "eXJiQ9QY-u6V"
      },
      "outputs": [],
      "source": [
        "drafts = df.iloc[:,0]\n",
        "#drafts = drafts.compute()\n",
        "drafts = drafts.astype(\"string\")\n",
        "#\n",
        "# 180251 unique drafts\n",
        "# 7519894 rows"
      ]
    },
    {
      "cell_type": "code",
      "execution_count": null,
      "metadata": {
        "colab": {
          "base_uri": "https://localhost:8080/"
        },
        "id": "TUWk_wipD78Y",
        "outputId": "a95fdf79-af1c-400c-8669-cb1816b1bfb0"
      },
      "outputs": [
        {
          "name": "stdout",
          "output_type": "stream",
          "text": [
            "<class 'pandas.core.series.Series'>\n",
            "RangeIndex: 7519894 entries, 0 to 7519893\n",
            "Series name: draft_id\n",
            "Non-Null Count    Dtype \n",
            "--------------    ----- \n",
            "7519894 non-null  string\n",
            "dtypes: string(1)\n",
            "memory usage: 57.4 MB\n"
          ]
        }
      ],
      "source": [
        "drafts.info()\n",
        "#count                              7519894\n",
        "#unique                              180251\n",
        "#top       562c07bcca0342d79365485503d153e4\n",
        "#freq                                    42\n",
        "#Name: draft_id, dtype: object"
      ]
    },
    {
      "cell_type": "code",
      "execution_count": null,
      "metadata": {
        "id": "t1yYySoAjWAo"
      },
      "outputs": [],
      "source": [
        "bad = drafts.value_counts()<42"
      ]
    },
    {
      "cell_type": "code",
      "execution_count": null,
      "metadata": {
        "id": "HLHO2107qO7y"
      },
      "outputs": [],
      "source": [
        "bad = bad.to_frame()"
      ]
    },
    {
      "cell_type": "code",
      "execution_count": null,
      "metadata": {
        "id": "fOd_soDeyAGg"
      },
      "outputs": [],
      "source": [
        "bad = bad.rename({'draft_id': 'bad_draft'}, axis='columns')"
      ]
    },
    {
      "cell_type": "code",
      "execution_count": null,
      "metadata": {
        "colab": {
          "base_uri": "https://localhost:8080/",
          "height": 206
        },
        "id": "5T4qWLx4xf1p",
        "outputId": "febfe296-9dbe-4d5b-f613-fe7dc24bbea0"
      },
      "outputs": [
        {
          "data": {
            "text/html": [
              "\n",
              "  <div id=\"df-9f361593-28f3-4230-b723-61c67c4a1a7f\">\n",
              "    <div class=\"colab-df-container\">\n",
              "      <div>\n",
              "<style scoped>\n",
              "    .dataframe tbody tr th:only-of-type {\n",
              "        vertical-align: middle;\n",
              "    }\n",
              "\n",
              "    .dataframe tbody tr th {\n",
              "        vertical-align: top;\n",
              "    }\n",
              "\n",
              "    .dataframe thead th {\n",
              "        text-align: right;\n",
              "    }\n",
              "</style>\n",
              "<table border=\"1\" class=\"dataframe\">\n",
              "  <thead>\n",
              "    <tr style=\"text-align: right;\">\n",
              "      <th></th>\n",
              "      <th>bad_draft</th>\n",
              "    </tr>\n",
              "  </thead>\n",
              "  <tbody>\n",
              "    <tr>\n",
              "      <th>562c07bcca0342d79365485503d153e4</th>\n",
              "      <td>False</td>\n",
              "    </tr>\n",
              "    <tr>\n",
              "      <th>291f1fdd7c0c411ba58fd2208bb90086</th>\n",
              "      <td>False</td>\n",
              "    </tr>\n",
              "    <tr>\n",
              "      <th>c1e8e3025db74878a7526ac2491ec0e9</th>\n",
              "      <td>False</td>\n",
              "    </tr>\n",
              "    <tr>\n",
              "      <th>b2b00654381b443895ef9d0681438c33</th>\n",
              "      <td>False</td>\n",
              "    </tr>\n",
              "    <tr>\n",
              "      <th>1b73d69c2f5645d5a7531984c3bddbcf</th>\n",
              "      <td>False</td>\n",
              "    </tr>\n",
              "  </tbody>\n",
              "</table>\n",
              "</div>\n",
              "      <button class=\"colab-df-convert\" onclick=\"convertToInteractive('df-9f361593-28f3-4230-b723-61c67c4a1a7f')\"\n",
              "              title=\"Convert this dataframe to an interactive table.\"\n",
              "              style=\"display:none;\">\n",
              "        \n",
              "  <svg xmlns=\"http://www.w3.org/2000/svg\" height=\"24px\"viewBox=\"0 0 24 24\"\n",
              "       width=\"24px\">\n",
              "    <path d=\"M0 0h24v24H0V0z\" fill=\"none\"/>\n",
              "    <path d=\"M18.56 5.44l.94 2.06.94-2.06 2.06-.94-2.06-.94-.94-2.06-.94 2.06-2.06.94zm-11 1L8.5 8.5l.94-2.06 2.06-.94-2.06-.94L8.5 2.5l-.94 2.06-2.06.94zm10 10l.94 2.06.94-2.06 2.06-.94-2.06-.94-.94-2.06-.94 2.06-2.06.94z\"/><path d=\"M17.41 7.96l-1.37-1.37c-.4-.4-.92-.59-1.43-.59-.52 0-1.04.2-1.43.59L10.3 9.45l-7.72 7.72c-.78.78-.78 2.05 0 2.83L4 21.41c.39.39.9.59 1.41.59.51 0 1.02-.2 1.41-.59l7.78-7.78 2.81-2.81c.8-.78.8-2.07 0-2.86zM5.41 20L4 18.59l7.72-7.72 1.47 1.35L5.41 20z\"/>\n",
              "  </svg>\n",
              "      </button>\n",
              "      \n",
              "  <style>\n",
              "    .colab-df-container {\n",
              "      display:flex;\n",
              "      flex-wrap:wrap;\n",
              "      gap: 12px;\n",
              "    }\n",
              "\n",
              "    .colab-df-convert {\n",
              "      background-color: #E8F0FE;\n",
              "      border: none;\n",
              "      border-radius: 50%;\n",
              "      cursor: pointer;\n",
              "      display: none;\n",
              "      fill: #1967D2;\n",
              "      height: 32px;\n",
              "      padding: 0 0 0 0;\n",
              "      width: 32px;\n",
              "    }\n",
              "\n",
              "    .colab-df-convert:hover {\n",
              "      background-color: #E2EBFA;\n",
              "      box-shadow: 0px 1px 2px rgba(60, 64, 67, 0.3), 0px 1px 3px 1px rgba(60, 64, 67, 0.15);\n",
              "      fill: #174EA6;\n",
              "    }\n",
              "\n",
              "    [theme=dark] .colab-df-convert {\n",
              "      background-color: #3B4455;\n",
              "      fill: #D2E3FC;\n",
              "    }\n",
              "\n",
              "    [theme=dark] .colab-df-convert:hover {\n",
              "      background-color: #434B5C;\n",
              "      box-shadow: 0px 1px 3px 1px rgba(0, 0, 0, 0.15);\n",
              "      filter: drop-shadow(0px 1px 2px rgba(0, 0, 0, 0.3));\n",
              "      fill: #FFFFFF;\n",
              "    }\n",
              "  </style>\n",
              "\n",
              "      <script>\n",
              "        const buttonEl =\n",
              "          document.querySelector('#df-9f361593-28f3-4230-b723-61c67c4a1a7f button.colab-df-convert');\n",
              "        buttonEl.style.display =\n",
              "          google.colab.kernel.accessAllowed ? 'block' : 'none';\n",
              "\n",
              "        async function convertToInteractive(key) {\n",
              "          const element = document.querySelector('#df-9f361593-28f3-4230-b723-61c67c4a1a7f');\n",
              "          const dataTable =\n",
              "            await google.colab.kernel.invokeFunction('convertToInteractive',\n",
              "                                                     [key], {});\n",
              "          if (!dataTable) return;\n",
              "\n",
              "          const docLinkHtml = 'Like what you see? Visit the ' +\n",
              "            '<a target=\"_blank\" href=https://colab.research.google.com/notebooks/data_table.ipynb>data table notebook</a>'\n",
              "            + ' to learn more about interactive tables.';\n",
              "          element.innerHTML = '';\n",
              "          dataTable['output_type'] = 'display_data';\n",
              "          await google.colab.output.renderOutput(dataTable, element);\n",
              "          const docLink = document.createElement('div');\n",
              "          docLink.innerHTML = docLinkHtml;\n",
              "          element.appendChild(docLink);\n",
              "        }\n",
              "      </script>\n",
              "    </div>\n",
              "  </div>\n",
              "  "
            ],
            "text/plain": [
              "                                  bad_draft\n",
              "562c07bcca0342d79365485503d153e4      False\n",
              "291f1fdd7c0c411ba58fd2208bb90086      False\n",
              "c1e8e3025db74878a7526ac2491ec0e9      False\n",
              "b2b00654381b443895ef9d0681438c33      False\n",
              "1b73d69c2f5645d5a7531984c3bddbcf      False"
            ]
          },
          "execution_count": 62,
          "metadata": {},
          "output_type": "execute_result"
        }
      ],
      "source": [
        "bad.head()"
      ]
    },
    {
      "cell_type": "code",
      "execution_count": null,
      "metadata": {
        "id": "Y-1__Ldvp9Ag"
      },
      "outputs": [],
      "source": [
        "drafts = drafts.to_frame()"
      ]
    },
    {
      "cell_type": "code",
      "execution_count": null,
      "metadata": {
        "colab": {
          "base_uri": "https://localhost:8080/",
          "height": 206
        },
        "id": "yCVG44gvyheH",
        "outputId": "ac6cca59-0585-48f6-a256-c197762ef242"
      },
      "outputs": [
        {
          "data": {
            "text/html": [
              "\n",
              "  <div id=\"df-bee0d3a9-27e9-40af-9bca-d0a98f9cbc1c\">\n",
              "    <div class=\"colab-df-container\">\n",
              "      <div>\n",
              "<style scoped>\n",
              "    .dataframe tbody tr th:only-of-type {\n",
              "        vertical-align: middle;\n",
              "    }\n",
              "\n",
              "    .dataframe tbody tr th {\n",
              "        vertical-align: top;\n",
              "    }\n",
              "\n",
              "    .dataframe thead th {\n",
              "        text-align: right;\n",
              "    }\n",
              "</style>\n",
              "<table border=\"1\" class=\"dataframe\">\n",
              "  <thead>\n",
              "    <tr style=\"text-align: right;\">\n",
              "      <th></th>\n",
              "      <th>draft_id</th>\n",
              "      <th>bad_draft</th>\n",
              "    </tr>\n",
              "  </thead>\n",
              "  <tbody>\n",
              "    <tr>\n",
              "      <th>0</th>\n",
              "      <td>562c07bcca0342d79365485503d153e4</td>\n",
              "      <td>False</td>\n",
              "    </tr>\n",
              "    <tr>\n",
              "      <th>1</th>\n",
              "      <td>562c07bcca0342d79365485503d153e4</td>\n",
              "      <td>False</td>\n",
              "    </tr>\n",
              "    <tr>\n",
              "      <th>2</th>\n",
              "      <td>562c07bcca0342d79365485503d153e4</td>\n",
              "      <td>False</td>\n",
              "    </tr>\n",
              "    <tr>\n",
              "      <th>3</th>\n",
              "      <td>562c07bcca0342d79365485503d153e4</td>\n",
              "      <td>False</td>\n",
              "    </tr>\n",
              "    <tr>\n",
              "      <th>4</th>\n",
              "      <td>562c07bcca0342d79365485503d153e4</td>\n",
              "      <td>False</td>\n",
              "    </tr>\n",
              "  </tbody>\n",
              "</table>\n",
              "</div>\n",
              "      <button class=\"colab-df-convert\" onclick=\"convertToInteractive('df-bee0d3a9-27e9-40af-9bca-d0a98f9cbc1c')\"\n",
              "              title=\"Convert this dataframe to an interactive table.\"\n",
              "              style=\"display:none;\">\n",
              "        \n",
              "  <svg xmlns=\"http://www.w3.org/2000/svg\" height=\"24px\"viewBox=\"0 0 24 24\"\n",
              "       width=\"24px\">\n",
              "    <path d=\"M0 0h24v24H0V0z\" fill=\"none\"/>\n",
              "    <path d=\"M18.56 5.44l.94 2.06.94-2.06 2.06-.94-2.06-.94-.94-2.06-.94 2.06-2.06.94zm-11 1L8.5 8.5l.94-2.06 2.06-.94-2.06-.94L8.5 2.5l-.94 2.06-2.06.94zm10 10l.94 2.06.94-2.06 2.06-.94-2.06-.94-.94-2.06-.94 2.06-2.06.94z\"/><path d=\"M17.41 7.96l-1.37-1.37c-.4-.4-.92-.59-1.43-.59-.52 0-1.04.2-1.43.59L10.3 9.45l-7.72 7.72c-.78.78-.78 2.05 0 2.83L4 21.41c.39.39.9.59 1.41.59.51 0 1.02-.2 1.41-.59l7.78-7.78 2.81-2.81c.8-.78.8-2.07 0-2.86zM5.41 20L4 18.59l7.72-7.72 1.47 1.35L5.41 20z\"/>\n",
              "  </svg>\n",
              "      </button>\n",
              "      \n",
              "  <style>\n",
              "    .colab-df-container {\n",
              "      display:flex;\n",
              "      flex-wrap:wrap;\n",
              "      gap: 12px;\n",
              "    }\n",
              "\n",
              "    .colab-df-convert {\n",
              "      background-color: #E8F0FE;\n",
              "      border: none;\n",
              "      border-radius: 50%;\n",
              "      cursor: pointer;\n",
              "      display: none;\n",
              "      fill: #1967D2;\n",
              "      height: 32px;\n",
              "      padding: 0 0 0 0;\n",
              "      width: 32px;\n",
              "    }\n",
              "\n",
              "    .colab-df-convert:hover {\n",
              "      background-color: #E2EBFA;\n",
              "      box-shadow: 0px 1px 2px rgba(60, 64, 67, 0.3), 0px 1px 3px 1px rgba(60, 64, 67, 0.15);\n",
              "      fill: #174EA6;\n",
              "    }\n",
              "\n",
              "    [theme=dark] .colab-df-convert {\n",
              "      background-color: #3B4455;\n",
              "      fill: #D2E3FC;\n",
              "    }\n",
              "\n",
              "    [theme=dark] .colab-df-convert:hover {\n",
              "      background-color: #434B5C;\n",
              "      box-shadow: 0px 1px 3px 1px rgba(0, 0, 0, 0.15);\n",
              "      filter: drop-shadow(0px 1px 2px rgba(0, 0, 0, 0.3));\n",
              "      fill: #FFFFFF;\n",
              "    }\n",
              "  </style>\n",
              "\n",
              "      <script>\n",
              "        const buttonEl =\n",
              "          document.querySelector('#df-bee0d3a9-27e9-40af-9bca-d0a98f9cbc1c button.colab-df-convert');\n",
              "        buttonEl.style.display =\n",
              "          google.colab.kernel.accessAllowed ? 'block' : 'none';\n",
              "\n",
              "        async function convertToInteractive(key) {\n",
              "          const element = document.querySelector('#df-bee0d3a9-27e9-40af-9bca-d0a98f9cbc1c');\n",
              "          const dataTable =\n",
              "            await google.colab.kernel.invokeFunction('convertToInteractive',\n",
              "                                                     [key], {});\n",
              "          if (!dataTable) return;\n",
              "\n",
              "          const docLinkHtml = 'Like what you see? Visit the ' +\n",
              "            '<a target=\"_blank\" href=https://colab.research.google.com/notebooks/data_table.ipynb>data table notebook</a>'\n",
              "            + ' to learn more about interactive tables.';\n",
              "          element.innerHTML = '';\n",
              "          dataTable['output_type'] = 'display_data';\n",
              "          await google.colab.output.renderOutput(dataTable, element);\n",
              "          const docLink = document.createElement('div');\n",
              "          docLink.innerHTML = docLinkHtml;\n",
              "          element.appendChild(docLink);\n",
              "        }\n",
              "      </script>\n",
              "    </div>\n",
              "  </div>\n",
              "  "
            ],
            "text/plain": [
              "                           draft_id  bad_draft\n",
              "0  562c07bcca0342d79365485503d153e4      False\n",
              "1  562c07bcca0342d79365485503d153e4      False\n",
              "2  562c07bcca0342d79365485503d153e4      False\n",
              "3  562c07bcca0342d79365485503d153e4      False\n",
              "4  562c07bcca0342d79365485503d153e4      False"
            ]
          },
          "execution_count": 66,
          "metadata": {},
          "output_type": "execute_result"
        }
      ],
      "source": [
        "drafts.head()"
      ]
    },
    {
      "cell_type": "code",
      "execution_count": null,
      "metadata": {
        "id": "6TDyYw5fxSPI"
      },
      "outputs": [],
      "source": [
        "drafts = drafts.join(bad, on=\"draft_id\")"
      ]
    },
    {
      "cell_type": "code",
      "execution_count": null,
      "metadata": {
        "id": "Xq9HTgidoQVI"
      },
      "outputs": [],
      "source": [
        "bad_indexlist = list(np.where(drafts[\"bad_draft\"] == True)[0])"
      ]
    },
    {
      "cell_type": "code",
      "execution_count": null,
      "metadata": {
        "colab": {
          "base_uri": "https://localhost:8080/"
        },
        "id": "B9huUVwH160b",
        "outputId": "9ce4e334-f57e-44c6-cafd-18e469cb7005"
      },
      "outputs": [
        {
          "name": "stdout",
          "output_type": "stream",
          "text": [
            "Done writing list into a binary file\n"
          ]
        }
      ],
      "source": [
        "write_list(bad_indexlist)"
      ]
    },
    {
      "cell_type": "code",
      "execution_count": null,
      "metadata": {
        "id": "JLT9PGN5CKcA"
      },
      "outputs": [],
      "source": [
        "bad_index = read_list('/content/drive/MyDrive/Colab Notebooks/data/bad_draft_index.pickle')"
      ]
    },
    {
      "cell_type": "code",
      "execution_count": null,
      "metadata": {
        "colab": {
          "base_uri": "https://localhost:8080/"
        },
        "id": "2pRqarWHCrRI",
        "outputId": "cb36d9aa-178b-4898-80d5-565602cc852e"
      },
      "outputs": [
        {
          "name": "stdout",
          "output_type": "stream",
          "text": [
            "73336\n"
          ]
        },
        {
          "data": {
            "text/plain": [
              "list"
            ]
          },
          "execution_count": 76,
          "metadata": {},
          "output_type": "execute_result"
        }
      ],
      "source": [
        "print(len(bad_indexlist))\n",
        "type(bad_indexlist)"
      ]
    },
    {
      "cell_type": "code",
      "execution_count": null,
      "metadata": {
        "id": "A9B_2nWRXBdo"
      },
      "outputs": [],
      "source": [
        "bad_indexlist = list(map(lambda x:x+1, bad_indexlist))"
      ]
    },
    {
      "cell_type": "code",
      "execution_count": null,
      "metadata": {
        "id": "WFLwSnSSXgSO"
      },
      "outputs": [],
      "source": [
        "bad_indexlist"
      ]
    },
    {
      "cell_type": "code",
      "execution_count": null,
      "metadata": {
        "colab": {
          "base_uri": "https://localhost:8080/"
        },
        "id": "IVPKKzwIyxcg",
        "outputId": "ab8f952e-fcca-45e9-b872-8ff30dff60f6"
      },
      "outputs": [
        {
          "data": {
            "text/plain": [
              "draft_id     614cf9e25fb24fd0b047f9887bed40c4\n",
              "bad_draft                                True\n",
              "Name: 1417, dtype: object"
            ]
          },
          "execution_count": 90,
          "metadata": {},
          "output_type": "execute_result"
        }
      ],
      "source": [
        "drafts.iloc[1417]"
      ]
    },
    {
      "cell_type": "code",
      "execution_count": 13,
      "metadata": {
        "colab": {
          "base_uri": "https://localhost:8080/"
        },
        "id": "VOuXdLDTN_Dm",
        "outputId": "e0e95695-4c3a-4975-beac-fd7c883f3067"
      },
      "outputs": [
        {
          "data": {
            "text/plain": [
              "0"
            ]
          },
          "execution_count": 13,
          "metadata": {},
          "output_type": "execute_result"
        }
      ],
      "source": [
        "sum(drafts.value_counts(ascending=True)<42)\n",
        "# 2952 bad drafts to remove\n",
        "# 73336 rows removed, about 25 rows per bad draft\n",
        "# leaves 177299 good drafts with 42 picks each\n",
        "# 7446558 total picks (rows)"
      ]
    },
    {
      "attachments": {},
      "cell_type": "markdown",
      "metadata": {
        "id": "uQG0mlCjZm8_"
      },
      "source": [
        "Exploring Ranks Distribution"
      ]
    },
    {
      "cell_type": "code",
      "execution_count": null,
      "metadata": {
        "id": "44nBQdVwH_cn"
      },
      "outputs": [],
      "source": [
        "ranks = df.iloc[:,1]\n",
        "ranks = ranks.compute()\n",
        "# 6 mins"
      ]
    },
    {
      "cell_type": "code",
      "execution_count": null,
      "metadata": {
        "colab": {
          "base_uri": "https://localhost:8080/"
        },
        "id": "WyizKGsvytoo",
        "outputId": "e899ee56-63e1-4db5-f508-7c59cf4e6996"
      },
      "outputs": [
        {
          "data": {
            "text/plain": [
              "Dask Series Structure:\n",
              "npartitions=1\n",
              "    object\n",
              "       ...\n",
              "Name: rank, dtype: object\n",
              "Dask Name: describe-nonnumeric, 22 graph layers"
            ]
          },
          "execution_count": 19,
          "metadata": {},
          "output_type": "execute_result"
        }
      ],
      "source": [
        "ranks.describe()"
      ]
    },
    {
      "cell_type": "code",
      "execution_count": null,
      "metadata": {
        "colab": {
          "base_uri": "https://localhost:8080/"
        },
        "id": "Ju4LkkHXuXae",
        "outputId": "3a75a6fd-d09b-4bac-ffdb-f7d94d724da1"
      },
      "outputs": [
        {
          "data": {
            "text/plain": [
              "499954"
            ]
          },
          "execution_count": 7,
          "metadata": {},
          "output_type": "execute_result"
        }
      ],
      "source": [
        "ranks.isna().sum()"
      ]
    },
    {
      "cell_type": "code",
      "execution_count": null,
      "metadata": {
        "colab": {
          "base_uri": "https://localhost:8080/"
        },
        "id": "0GS5gbF1IGCF",
        "outputId": "8c9b456f-d114-4053-f62a-a6217b687da3"
      },
      "outputs": [
        {
          "data": {
            "text/plain": [
              "platinum    2912155\n",
              "gold        1470430\n",
              "silver      1102957\n",
              "diamond     1032125\n",
              "mythic       502273\n",
              "Name: rank, dtype: int64"
            ]
          },
          "execution_count": 6,
          "metadata": {},
          "output_type": "execute_result"
        }
      ],
      "source": [
        "ranks.value_counts()"
      ]
    },
    {
      "attachments": {},
      "cell_type": "markdown",
      "metadata": {
        "id": "fd_-0sN9u60Z"
      },
      "source": [
        "Exploring Distributions of Rank, Pick & Pack Number in Data Files"
      ]
    },
    {
      "cell_type": "code",
      "execution_count": null,
      "metadata": {
        "id": "SdO_SrctwIpA"
      },
      "outputs": [],
      "source": [
        "#distributions of rank in original dataset\n",
        "\n",
        "#platinum    2912155\n",
        "#proportion  0.38726\n",
        "\n",
        "#gold        1470430\n",
        "#proportion  0.19554\n",
        "\n",
        "#silver      1102957\n",
        "#proportion  0.14667\n",
        "\n",
        "#diamond     1032125\n",
        "#proportion  0.13725\n",
        "\n",
        "#mythic      502273\n",
        "#proportion  0.06679\n",
        "\n",
        "#bronze      499954\n",
        "#proportion  0.06648\n",
        "\n",
        "#total       7519894\n",
        "d = {'platinum': 0.38726, 'gold': 0.19554, 'silver': 0.14667\n",
        "     , 'diamond': 0.13725, 'mythic': 0.06679, 'bronze': 0.06648}\n",
        "\n",
        "rankproportions = pd.Series(data=d, index=['platinum', 'gold', 'silver'\n",
        "                  , 'diamond', 'mythic', 'bronze'])\n"
      ]
    },
    {
      "cell_type": "code",
      "execution_count": null,
      "metadata": {
        "colab": {
          "base_uri": "https://localhost:8080/"
        },
        "id": "DiqzfFkb5lYf",
        "outputId": "a845a383-5b48-4497-9347-319032410b2d"
      },
      "outputs": [
        {
          "data": {
            "text/plain": [
              "platinum    0.38726\n",
              "gold        0.19554\n",
              "silver      0.14667\n",
              "diamond     0.13725\n",
              "mythic      0.06679\n",
              "bronze      0.06648\n",
              "dtype: float64"
            ]
          },
          "execution_count": 49,
          "metadata": {},
          "output_type": "execute_result"
        }
      ],
      "source": [
        "rankproportions"
      ]
    },
    {
      "cell_type": "code",
      "execution_count": null,
      "metadata": {
        "id": "Z2FoAfwDvCFZ"
      },
      "outputs": [],
      "source": [
        "#loading dataset with pandas, change last part to val.csv, test.csv or train.csv\n",
        "df = load_data(\"/content/drive/MyDrive/Colab Notebooks/data/test.csv\")"
      ]
    },
    {
      "cell_type": "code",
      "execution_count": null,
      "metadata": {
        "id": "KugEwO2-z3u2"
      },
      "outputs": [],
      "source": [
        "df['pack_number'] = df['pack_number'].astype('string')\n",
        "df['pick_number'] = df['pick_number'].astype('string')"
      ]
    },
    {
      "cell_type": "code",
      "execution_count": null,
      "metadata": {
        "colab": {
          "base_uri": "https://localhost:8080/"
        },
        "id": "d60IlniJvLFx",
        "outputId": "af79561e-98fa-45b2-b4c3-8bca19ce7dcf"
      },
      "outputs": [
        {
          "data": {
            "text/plain": [
              "platinum    0.000430\n",
              "gold        0.000202\n",
              "silver      0.000105\n",
              "diamond     0.000062\n",
              "mythic      0.000131\n",
              "bronze     -0.000920\n",
              "dtype: float64"
            ]
          },
          "execution_count": 59,
          "metadata": {},
          "output_type": "execute_result"
        }
      ],
      "source": [
        "dfrankproportions = df['rank'].value_counts()/sum(df['rank'].value_counts())\n",
        "dfrankproportions-rankproportions\n",
        "#val: difference caps at 0.001042 from expected proportion\n",
        "#test: difference caps at 0.001008 from expected proportion\n",
        "#train: difference caps at 0.000920 from expected proportion"
      ]
    },
    {
      "cell_type": "code",
      "execution_count": null,
      "metadata": {
        "id": "5t1BpokeyoD4"
      },
      "outputs": [],
      "source": [
        "#distributions of pick & pack number in original dataset\n",
        "#after eliminating bad drafts, we should be left with drafts that only feature 42 picks\n",
        "#42 picks, 14 picks per pack, 3 packs\n",
        "#so there should be an equal number of each pick/pack combination in each train/val/test sets\n",
        "#proportion of each should be 1/42 = 0.023809523809"
      ]
    },
    {
      "cell_type": "code",
      "execution_count": null,
      "metadata": {
        "id": "gThEL4ddyNo0"
      },
      "outputs": [],
      "source": [
        "df['packpicknumber'] = df['pack_number']+df['pick_number']"
      ]
    },
    {
      "cell_type": "code",
      "execution_count": null,
      "metadata": {
        "colab": {
          "base_uri": "https://localhost:8080/"
        },
        "id": "vz8HwdhC2IaI",
        "outputId": "f3c93e3a-ac44-4578-9aac-77f85dfcd7cb"
      },
      "outputs": [
        {
          "data": {
            "text/plain": [
              "211    0.000509\n",
              "013    0.000492\n",
              "27     0.000492\n",
              "01     0.000488\n",
              "19     0.000482\n",
              "11     0.000481\n",
              "13      0.00048\n",
              "113    0.000478\n",
              "09     0.000478\n",
              "23     0.000478\n",
              "05     0.000476\n",
              "15     0.000476\n",
              "21     0.000473\n",
              "17     0.000473\n",
              "111    0.000471\n",
              "011    0.000471\n",
              "29     0.000471\n",
              "213    0.000463\n",
              "07     0.000462\n",
              "25     0.000461\n",
              "03     0.000449\n",
              "012    -0.00045\n",
              "08    -0.000454\n",
              "04    -0.000455\n",
              "00    -0.000463\n",
              "24    -0.000463\n",
              "12    -0.000463\n",
              "20    -0.000467\n",
              "28    -0.000471\n",
              "210   -0.000474\n",
              "16    -0.000477\n",
              "26    -0.000478\n",
              "14    -0.000481\n",
              "110   -0.000482\n",
              "10    -0.000483\n",
              "18    -0.000487\n",
              "112   -0.000487\n",
              "212   -0.000487\n",
              "22    -0.000489\n",
              "02    -0.000491\n",
              "06    -0.000498\n",
              "010   -0.000502\n",
              "Name: packpicknumber, dtype: Float64"
            ]
          },
          "execution_count": 65,
          "metadata": {},
          "output_type": "execute_result"
        }
      ],
      "source": [
        "ppproportions = df['packpicknumber'].value_counts()/sum(df['packpicknumber'].value_counts())\n",
        "ppproportions-0.023809523809\n",
        "#val: difference caps at 0.000829 from expected proportion\n",
        "#test: difference caps at 0.000509 from expected proportion\n",
        "#train: difference caps at 0.000045 from expected proportion"
      ]
    }
  ],
  "metadata": {
    "colab": {
      "provenance": []
    },
    "kernelspec": {
      "display_name": "Python 3",
      "name": "python3"
    },
    "language_info": {
      "codemirror_mode": {
        "name": "ipython",
        "version": 3
      },
      "file_extension": ".py",
      "mimetype": "text/x-python",
      "name": "python",
      "nbconvert_exporter": "python",
      "pygments_lexer": "ipython3",
      "version": "3.9.13"
    }
  },
  "nbformat": 4,
  "nbformat_minor": 0
}
